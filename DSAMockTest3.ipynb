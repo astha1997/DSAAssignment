{
 "cells": [
  {
   "cell_type": "markdown",
   "id": "1d143792-0b68-4dd5-a43f-c0e84a8e68e1",
   "metadata": {},
   "source": [
    "Implement a stack using a list in Python. Include the necessary methods such as push, pop, and isEmpty."
   ]
  },
  {
   "cell_type": "code",
   "execution_count": 2,
   "id": "48940eb3-89c3-4170-9543-94af929b2e4c",
   "metadata": {},
   "outputs": [
    {
     "name": "stdout",
     "output_type": "stream",
     "text": [
      "False\n",
      "3\n",
      "2\n",
      "1\n",
      "Stack is empty. Cannot pop an element.\n",
      "None\n"
     ]
    }
   ],
   "source": [
    "class Stack:\n",
    "    def __init__(self):\n",
    "        self.stack = []\n",
    "\n",
    "    def push(self, item):\n",
    "        self.stack.append(item)\n",
    "\n",
    "    def pop(self):\n",
    "        if not self.isEmpty():\n",
    "            return self.stack.pop()\n",
    "        else:\n",
    "            print(\"Stack is empty. Cannot pop an element.\")\n",
    "\n",
    "    def isEmpty(self):\n",
    "        return len(self.stack) == 0\n",
    "\n",
    "\n",
    "# Example usage:\n",
    "stack = Stack()\n",
    "\n",
    "# Pushing elements onto the stack\n",
    "stack.push(1)\n",
    "stack.push(2)\n",
    "stack.push(3)\n",
    "\n",
    "# Checking if the stack is empty\n",
    "print(stack.isEmpty())  # Output: False\n",
    "\n",
    "# Popping elements from the stack\n",
    "print(stack.pop())  # Output: 3\n",
    "print(stack.pop())  # Output: 2\n",
    "print(stack.pop())  # Output: 1\n",
    "print(stack.pop())  # Output: Stack is empty. Cannot pop an element.\n"
   ]
  },
  {
   "cell_type": "markdown",
   "id": "53179459-0b99-4a1c-8f2e-331401117b94",
   "metadata": {},
   "source": [
    "Implement a queue using a list in Python. Include the necessary methods such as enqueue, dequeue, and isEmpty."
   ]
  },
  {
   "cell_type": "code",
   "execution_count": 3,
   "id": "f9e5c157-1c3b-4af3-a51b-dd6ec734ffd5",
   "metadata": {},
   "outputs": [
    {
     "name": "stdout",
     "output_type": "stream",
     "text": [
      "False\n",
      "1\n",
      "2\n",
      "3\n",
      "Queue is empty. Cannot dequeue an element.\n",
      "None\n"
     ]
    }
   ],
   "source": [
    "class Queue:\n",
    "    def __init__(self):\n",
    "        self.queue = []\n",
    "\n",
    "    def enqueue(self, item):\n",
    "        self.queue.append(item)\n",
    "\n",
    "    def dequeue(self):\n",
    "        if not self.isEmpty():\n",
    "            return self.queue.pop(0)\n",
    "        else:\n",
    "            print(\"Queue is empty. Cannot dequeue an element.\")\n",
    "\n",
    "    def isEmpty(self):\n",
    "        return len(self.queue) == 0\n",
    "\n",
    "\n",
    "# Example usage:\n",
    "queue = Queue()\n",
    "\n",
    "# Enqueueing elements into the queue\n",
    "queue.enqueue(1)\n",
    "queue.enqueue(2)\n",
    "queue.enqueue(3)\n",
    "\n",
    "# Checking if the queue is empty\n",
    "print(queue.isEmpty())  # Output: False\n",
    "\n",
    "# Dequeueing elements from the queue\n",
    "print(queue.dequeue())  # Output: 1\n",
    "print(queue.dequeue())  # Output: 2\n",
    "print(queue.dequeue())  # Output: 3\n",
    "print(queue.dequeue())  # Output: Queue is empty. Cannot dequeue an element.\n"
   ]
  },
  {
   "cell_type": "code",
   "execution_count": null,
   "id": "5d1704e8-12ed-4ee3-b05d-ddc967ababbb",
   "metadata": {},
   "outputs": [],
   "source": []
  }
 ],
 "metadata": {
  "kernelspec": {
   "display_name": "Python 3 (ipykernel)",
   "language": "python",
   "name": "python3"
  },
  "language_info": {
   "codemirror_mode": {
    "name": "ipython",
    "version": 3
   },
   "file_extension": ".py",
   "mimetype": "text/x-python",
   "name": "python",
   "nbconvert_exporter": "python",
   "pygments_lexer": "ipython3",
   "version": "3.10.6"
  }
 },
 "nbformat": 4,
 "nbformat_minor": 5
}
