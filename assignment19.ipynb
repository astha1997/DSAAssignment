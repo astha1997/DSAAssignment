{
 "cells": [
  {
   "cell_type": "markdown",
   "id": "b99537e0-7814-4b53-bfe1-60960e7f8135",
   "metadata": {},
   "source": [
    "### 1. You are given an array of `k` linked-lists `lists`, each linked-list is sorted in ascending order. *Merge all the linked-lists into one sorted linked-list and return it"
   ]
  },
  {
   "cell_type": "code",
   "execution_count": 14,
   "id": "61ab69a0-c7c9-4535-87c8-99aab80d6e68",
   "metadata": {},
   "outputs": [],
   "source": [
    "import heapq\n",
    "\n",
    "class ListNode:\n",
    "    def __init__(self, val=0, next=None):\n",
    "        self.val = val\n",
    "        self.next = next\n",
    "\n",
    "def mergeKLists(lists):\n",
    "    # Create a min-heap\n",
    "    min_heap = []\n",
    "\n",
    "    # Push the first node from each list into the min-heap\n",
    "    for lst in lists:\n",
    "        if lst:\n",
    "            heapq.heappush(min_heap, (lst.val, id(lst), lst))\n",
    "\n",
    "    # Create a dummy node and a pointer\n",
    "    dummy = ListNode(0)\n",
    "    current = dummy\n",
    "\n",
    "    # Merge the lists using the min-heap\n",
    "    while min_heap:\n",
    "        _, _, node = heapq.heappop(min_heap)\n",
    "        current.next = node\n",
    "        current = current.next\n",
    "        if node.next:\n",
    "            heapq.heappush(min_heap, (node.next.val, id(node.next), node.next))\n",
    "\n",
    "    return dummy.next"
   ]
  },
  {
   "cell_type": "code",
   "execution_count": 15,
   "id": "44563c40-05d2-430e-bcfd-675b80a1ff4d",
   "metadata": {},
   "outputs": [
    {
     "name": "stdout",
     "output_type": "stream",
     "text": [
      "1 1 2 3 4 4 5 6 "
     ]
    }
   ],
   "source": [
    "lists = [\n",
    "    ListNode(1, ListNode(4, ListNode(5))),\n",
    "    ListNode(1, ListNode(3, ListNode(4))),\n",
    "    ListNode(2, ListNode(6))\n",
    "]\n",
    "result = mergeKLists(lists)\n",
    "while result:\n",
    "    print(result.val, end=\" \")\n",
    "    result = result.next"
   ]
  },
  {
   "cell_type": "code",
   "execution_count": 16,
   "id": "aa49448b-35f3-4277-8a99-e9a903978f0d",
   "metadata": {},
   "outputs": [],
   "source": [
    "lists = []\n",
    "result = mergeKLists(lists)\n",
    "while result:\n",
    "    print(result.val, end=\" \")\n",
    "    result = result.next"
   ]
  },
  {
   "cell_type": "markdown",
   "id": "08093f8f-29b8-4b8c-9c29-8ccbeed11239",
   "metadata": {},
   "source": [
    "### 2. Given an integer array nums, return an integer array counts where counts[i] is the number of smaller elements to the right of nums[i]."
   ]
  },
  {
   "cell_type": "code",
   "execution_count": 39,
   "id": "bbd9103d-7da7-4ddb-a6d5-6f6f661bc394",
   "metadata": {},
   "outputs": [],
   "source": [
    "def find_smaller_elements(nums):\n",
    "    count = [0] * len(nums)\n",
    "    \n",
    "    def mergeSort(nums, left, right, count):\n",
    "        if left < right:\n",
    "            mid = (left + right) // 2\n",
    "            mergeSort(nums, left, mid, count)\n",
    "            mergeSort(nums, mid + 1, right, count)\n",
    "            merge(nums, left, mid, right, count)\n",
    "        \n",
    "    def merge(nums, left, mid, right, count):\n",
    "        i, j = left, mid + 1\n",
    "        merged = []\n",
    "        smaller_count = 0    \n",
    "        \n",
    "        while i <= mid and j <= right:\n",
    "            if nums[i] <= nums[j]:\n",
    "                merged.append(nums[i])\n",
    "                count[i] += smaller_count\n",
    "                i += 1\n",
    "            else:\n",
    "                merged.append(nums[j])\n",
    "                smaller_count += 1\n",
    "                j += 1\n",
    "\n",
    "        while i <= mid:\n",
    "            merged.append(nums[i])\n",
    "            count[i] += smaller_count\n",
    "            i += 1\n",
    "\n",
    "        while j <= right:\n",
    "            merged.append(nums[j])\n",
    "            j += 1\n",
    "\n",
    "        for k in range(left, right + 1):\n",
    "            nums[k] = merged[k - left]\n",
    "\n",
    "    mergeSort(nums, 0, len(nums) - 1, count)\n",
    "    return count"
   ]
  },
  {
   "cell_type": "code",
   "execution_count": 40,
   "id": "4a689666-c8ef-4ce6-bbcc-fb16d6a49eb1",
   "metadata": {},
   "outputs": [
    {
     "name": "stdout",
     "output_type": "stream",
     "text": [
      "[2, 1, 1, 0]\n"
     ]
    }
   ],
   "source": [
    "nums = [5, 2, 6, 1]\n",
    "result = find_smaller_elements(nums)\n",
    "print(result)"
   ]
  },
  {
   "cell_type": "code",
   "execution_count": 41,
   "id": "2d004ebe-3fe8-46b0-bcbf-0229375ae9e2",
   "metadata": {},
   "outputs": [
    {
     "name": "stdout",
     "output_type": "stream",
     "text": [
      "[0]\n"
     ]
    }
   ],
   "source": [
    "nums = [-1]\n",
    "result = find_smaller_elements(nums)\n",
    "print(result)"
   ]
  },
  {
   "cell_type": "code",
   "execution_count": 42,
   "id": "1c2e83e0-4a5f-4c52-8ae5-2b24f07c3f35",
   "metadata": {},
   "outputs": [
    {
     "name": "stdout",
     "output_type": "stream",
     "text": [
      "[0, 0]\n"
     ]
    }
   ],
   "source": [
    "nums = [-1,-1]\n",
    "result = find_smaller_elements(nums)\n",
    "print(result)"
   ]
  },
  {
   "cell_type": "markdown",
   "id": "961b78fd-915b-4b42-9960-65f7f0c38ac3",
   "metadata": {},
   "source": [
    "### 3. Given an array of integers `nums`, sort the array in ascending order and return it. You must solve the problem **without using any built-in** functions in `O(nlog(n))` time complexity and with the smallest space complexity possible."
   ]
  },
  {
   "cell_type": "code",
   "execution_count": 1,
   "id": "4c585e5e-f693-4dfb-a2b8-c713f896bae0",
   "metadata": {},
   "outputs": [],
   "source": [
    "def mergeSort(nums):\n",
    "    def merge(nums, left, mid, right):\n",
    "        left_arr = nums[left:mid+1]\n",
    "        right_arr = nums[mid+1:right+1]\n",
    "        i = j = 0\n",
    "        k = left\n",
    "\n",
    "        while i < len(left_arr) and j < len(right_arr):\n",
    "            if left_arr[i] <= right_arr[j]:\n",
    "                nums[k] = left_arr[i]\n",
    "                i += 1\n",
    "            else:\n",
    "                nums[k] = right_arr[j]\n",
    "                j += 1\n",
    "            k += 1\n",
    "\n",
    "        while i < len(left_arr):\n",
    "            nums[k] = left_arr[i]\n",
    "            i += 1\n",
    "            k += 1\n",
    "\n",
    "        while j < len(right_arr):\n",
    "            nums[k] = right_arr[j]\n",
    "            j += 1\n",
    "            k += 1\n",
    "\n",
    "    def mergeSortHelper(nums, left, right):\n",
    "        if left < right:\n",
    "            mid = (left + right) // 2\n",
    "            mergeSortHelper(nums, left, mid)\n",
    "            mergeSortHelper(nums, mid + 1, right)\n",
    "            merge(nums, left, mid, right)\n",
    "\n",
    "    mergeSortHelper(nums, 0, len(nums) - 1)\n",
    "    return nums"
   ]
  },
  {
   "cell_type": "code",
   "execution_count": 4,
   "id": "bb00d42b-a2fc-4707-99d2-719851aac30c",
   "metadata": {},
   "outputs": [
    {
     "name": "stdout",
     "output_type": "stream",
     "text": [
      "[1, 2, 3, 5]\n",
      "[0, 0, 1, 1, 2, 5]\n"
     ]
    }
   ],
   "source": [
    "nums = [5,2,3,1]\n",
    "result = mergeSort(nums)\n",
    "print(result)\n",
    "\n",
    "#example 2\n",
    "nums = [5,1,1,2,0,0]\n",
    "result = mergeSort(nums)\n",
    "print(result)"
   ]
  },
  {
   "cell_type": "markdown",
   "id": "32deb0ee-1ff9-4952-ad35-1ba61fb6ad66",
   "metadata": {},
   "source": [
    "### 4. Given an array of random numbers, Push all the zero’s of a given array to the end of the array. For example, if the given arrays is {1, 9, 8, 4, 0, 0, 2, 7, 0, 6, 0}, it should be changed to {1, 9, 8, 4, 2, 7, 6, 0, 0, 0, 0}. The order of all other elements should be same. Expected time complexity is O(n) and extra space is O(1)."
   ]
  },
  {
   "cell_type": "code",
   "execution_count": 12,
   "id": "256b08e2-868f-42a8-bce2-ec706ff94d19",
   "metadata": {},
   "outputs": [],
   "source": [
    "def pushZeroesToEnd(arr):\n",
    "    left = 0\n",
    "    right = len(arr) - 1\n",
    "    \n",
    "    while left < right:\n",
    "        if arr[left] == 0:\n",
    "            arr[left], arr[right] = arr[right], arr[left]\n",
    "            right -= 1\n",
    "        else:\n",
    "            left += 1\n",
    "    \n",
    "    return arr"
   ]
  },
  {
   "cell_type": "code",
   "execution_count": 14,
   "id": "c60c00bd-11e2-4947-a114-4b359d1b350f",
   "metadata": {},
   "outputs": [
    {
     "name": "stdout",
     "output_type": "stream",
     "text": [
      "[1, 2, 5, 4, 3, 0, 0, 0]\n"
     ]
    }
   ],
   "source": [
    "arr = [1, 2, 0, 4, 3, 0, 5, 0]\n",
    "print(pushZeroesToEnd(arr))"
   ]
  },
  {
   "cell_type": "markdown",
   "id": "fae09fca-8919-4b59-963a-84d337ce8a1d",
   "metadata": {},
   "source": [
    "### 5. Rearrange array in alternating positive & negative items with O(1) extra space. Given an **array of positive** and **negative numbers**, arrange them in an **alternate** fashion such that every positive number is followed by a negative and vice-versa maintaining the **order of appearance**. The number of positive and negative numbers need not be equal. If there are more positive numbers they appear at the end of the array. If there are more negative numbers, they too appear at the end of the array."
   ]
  },
  {
   "cell_type": "code",
   "execution_count": 2,
   "id": "2c779dc1-56ea-47f1-a72f-e5a46e5ff5aa",
   "metadata": {},
   "outputs": [],
   "source": [
    "def rearrangeArray(arr):\n",
    "    pstv = 0\n",
    "    ngtv = 0\n",
    "    \n",
    "    while pstv < len(arr):\n",
    "        while pstv < len(arr) and arr[pstv] >= 0:\n",
    "            pstv += 1\n",
    "            \n",
    "        while ngtv < len(arr) and arr[ngtv] < 0:\n",
    "            ngtv += 1\n",
    "            \n",
    "        if pstv < len(arr) and ngtv < len(arr):\n",
    "            arr[pstv], arr[ngtv] = arr[ngtv], arr[pstv]\n",
    "            pstv += 1\n",
    "            ngtv += 1\n",
    "            \n",
    "    return arr        "
   ]
  },
  {
   "cell_type": "code",
   "execution_count": null,
   "id": "a6b94aaa-e10f-48c2-9e86-d0a293d89ac9",
   "metadata": {},
   "outputs": [
    {
     "name": "stdout",
     "output_type": "stream",
     "text": [
      "[-4, -1, 3, 1, 2, 4]\n"
     ]
    }
   ],
   "source": [
    "arr = [1, 2, 3, -4, -1, 4]\n",
    "print(rearrangeArray(arr))\n",
    "\n",
    "#example2\n",
    "arr = [-5, -2, 5, 2, 4, 7, 1, 8, 0, -8]\n",
    "print(rearrangeArray(arr))"
   ]
  },
  {
   "cell_type": "markdown",
   "id": "fd43f5d7-16dd-4412-9381-71c7bf57c502",
   "metadata": {},
   "source": [
    "### 6. Merge two sorted arrays. Given two sorted arrays, the task is to merge them in a sorted manner."
   ]
  },
  {
   "cell_type": "code",
   "execution_count": 6,
   "id": "8ce3f57e-ea0d-4773-9949-7231d3b1ce89",
   "metadata": {},
   "outputs": [],
   "source": [
    "def mergeArray(arr1, arr2):\n",
    "    merged = []\n",
    "    i = 0\n",
    "    j = 0\n",
    "    \n",
    "    while i < len(arr1) and j < len(arr2):\n",
    "        if arr1[i] <= arr2[j]:\n",
    "            merged.append(arr1[i])\n",
    "            i += 1\n",
    "        else:\n",
    "            merged.append(arr2[j])\n",
    "            j += 1\n",
    "            \n",
    "        while i < len(arr1):    \n",
    "            merged.append(arr1[i])\n",
    "            i += 1\n",
    "        \n",
    "        while j < len(arr2):\n",
    "            merged.append(arr2[j])\n",
    "            j += 1\n",
    "            \n",
    "    return merged        "
   ]
  },
  {
   "cell_type": "code",
   "execution_count": 7,
   "id": "ee6a5b1f-3da3-4a0d-96e0-8dbd9347c324",
   "metadata": {},
   "outputs": [
    {
     "name": "stdout",
     "output_type": "stream",
     "text": [
      "[1, 3, 4, 5, 2, 4, 6, 8]\n"
     ]
    }
   ],
   "source": [
    "arr1 = [1, 3, 4, 5]\n",
    "arr2 = [2, 4, 6, 8]\n",
    "print(mergeArray(arr1, arr2))"
   ]
  },
  {
   "cell_type": "markdown",
   "id": "cab9d17e-650b-4aa0-9537-7fb46e32688b",
   "metadata": {},
   "source": [
    "### 7. Intersection of Two Arrays. Given two integer arrays `nums1` and `nums2`, return *an array of their intersection*. Each element in the result must be **unique** and you may return the result in **any order**."
   ]
  },
  {
   "cell_type": "code",
   "execution_count": 9,
   "id": "368d8b58-a797-4a01-8a13-35093628af68",
   "metadata": {},
   "outputs": [],
   "source": [
    "def intersection(nums1, nums2):\n",
    "    set1 = set(nums1)\n",
    "    result_set = set()\n",
    "\n",
    "    for num in nums2:\n",
    "        if num in set1:\n",
    "            result_set.add(num)\n",
    "\n",
    "    result_list = list(result_set)\n",
    "    return result_set "
   ]
  },
  {
   "cell_type": "code",
   "execution_count": 10,
   "id": "1a73820e-227d-478f-bb3e-1136ecab58b5",
   "metadata": {},
   "outputs": [
    {
     "name": "stdout",
     "output_type": "stream",
     "text": [
      "{2}\n"
     ]
    }
   ],
   "source": [
    "nums1 = [1,2,2,1]\n",
    "nums2 = [2,2]\n",
    "print(intersection(nums1, nums2))"
   ]
  },
  {
   "cell_type": "code",
   "execution_count": 11,
   "id": "bbc2e043-684a-48a4-b33e-1e522dae1125",
   "metadata": {},
   "outputs": [
    {
     "name": "stdout",
     "output_type": "stream",
     "text": [
      "{9, 4}\n"
     ]
    }
   ],
   "source": [
    "nums1 = [4,9,5]\n",
    "nums2 = [9,4,9,8,4]\n",
    "print(intersection(nums1, nums2))"
   ]
  },
  {
   "cell_type": "markdown",
   "id": "f82bdf18-5b57-46ff-b22c-4e1a5f7514c4",
   "metadata": {},
   "source": [
    "### 8. Intersection of Two Arrays. Given two integer arrays nums1 and nums2, return an array of their intersection. Each element in the result must appear as many times as it shows in both arrays and you may return the result in any order."
   ]
  },
  {
   "cell_type": "code",
   "execution_count": 12,
   "id": "6c35d6f0-d350-473b-a185-0d58d13c5348",
   "metadata": {},
   "outputs": [],
   "source": [
    "def intersection(nums1, nums2):\n",
    "    dict1 = {}\n",
    "    dict2 = {}\n",
    "\n",
    "    for num in nums1:\n",
    "        dict1[num] = dict1.get(num, 0) + 1\n",
    "\n",
    "    for num in nums2:\n",
    "        dict2[num] = dict2.get(num, 0) + 1\n",
    "\n",
    "    result = []\n",
    "    for num in dict1.keys() & dict2.keys():\n",
    "        result.extend([num] * min(dict1[num], dict2[num]))\n",
    "\n",
    "    return result"
   ]
  },
  {
   "cell_type": "code",
   "execution_count": 13,
   "id": "855db9f0-3098-4e87-841c-5e39c09dd9a6",
   "metadata": {},
   "outputs": [
    {
     "name": "stdout",
     "output_type": "stream",
     "text": [
      "[2, 2]\n"
     ]
    }
   ],
   "source": [
    "nums1 = [1,2,2,1]\n",
    "nums2 = [2,2]\n",
    "print(intersection(nums1, nums2))"
   ]
  },
  {
   "cell_type": "code",
   "execution_count": 15,
   "id": "c8a36276-a6a5-439f-af4d-41b86be31020",
   "metadata": {},
   "outputs": [
    {
     "name": "stdout",
     "output_type": "stream",
     "text": [
      "[9, 4]\n"
     ]
    }
   ],
   "source": [
    "nums1 = [4,9,5]\n",
    "nums2 = [9,4,9,8,4]\n",
    "print(intersection(nums1, nums2))"
   ]
  },
  {
   "cell_type": "code",
   "execution_count": null,
   "id": "4472b139-4a92-4d1c-9b6e-fbcc75bbfd3d",
   "metadata": {},
   "outputs": [],
   "source": []
  }
 ],
 "metadata": {
  "kernelspec": {
   "display_name": "Python 3 (ipykernel)",
   "language": "python",
   "name": "python3"
  },
  "language_info": {
   "codemirror_mode": {
    "name": "ipython",
    "version": 3
   },
   "file_extension": ".py",
   "mimetype": "text/x-python",
   "name": "python",
   "nbconvert_exporter": "python",
   "pygments_lexer": "ipython3",
   "version": "3.10.6"
  }
 },
 "nbformat": 4,
 "nbformat_minor": 5
}
