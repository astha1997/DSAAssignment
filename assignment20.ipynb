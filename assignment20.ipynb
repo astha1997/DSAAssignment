{
 "cells": [
  {
   "cell_type": "markdown",
   "id": "8636c276-30c6-4434-8cd5-ae1e5613292e",
   "metadata": {},
   "source": [
    "### 1. Given a binary tree, your task is to find subtree with maximum sum in tree."
   ]
  },
  {
   "cell_type": "code",
   "execution_count": 1,
   "id": "9941a255-e894-4839-bbb8-ecd0d813da52",
   "metadata": {},
   "outputs": [],
   "source": [
    "class TreeNode:\n",
    "    def __init__(self, val=0, left=None, right=None):\n",
    "        self.val = val\n",
    "        self.left = left\n",
    "        self.right = right\n",
    "\n",
    "def maxSubtreeSum(root):\n",
    "    max_sum = float('-inf')\n",
    "\n",
    "    def maxSubtreeSumHelper(node):\n",
    "        nonlocal max_sum\n",
    "\n",
    "        if node is None:\n",
    "            return 0\n",
    "\n",
    "        left_sum = maxSubtreeSumHelper(node.left)\n",
    "        right_sum = maxSubtreeSumHelper(node.right)\n",
    "\n",
    "        subtree_sum = node.val + left_sum + right_sum\n",
    "\n",
    "        max_sum = max(max_sum, subtree_sum)\n",
    "\n",
    "        return subtree_sum\n",
    "\n",
    "    maxSubtreeSumHelper(root)\n",
    "    return max_sum"
   ]
  },
  {
   "cell_type": "code",
   "execution_count": 2,
   "id": "ca01f9c6-0f2b-4a69-8a18-1f649308070f",
   "metadata": {},
   "outputs": [
    {
     "name": "stdout",
     "output_type": "stream",
     "text": [
      "28\n"
     ]
    }
   ],
   "source": [
    "root = TreeNode(1)\n",
    "root.left = TreeNode(2)\n",
    "root.right = TreeNode(3)\n",
    "root.left.left = TreeNode(4)\n",
    "root.left.right = TreeNode(5)\n",
    "root.right.left = TreeNode(6)\n",
    "root.right.right = TreeNode(7)\n",
    "\n",
    "result = maxSubtreeSum(root)\n",
    "print(result)"
   ]
  },
  {
   "cell_type": "markdown",
   "id": "a0a6f1ea-7e0b-45a4-8d9b-3aa30854d0f3",
   "metadata": {},
   "source": [
    "### 2. Construct the BST (Binary Search Tree) from its given level order traversal."
   ]
  },
  {
   "cell_type": "code",
   "execution_count": 33,
   "id": "63c8b2be-02f3-4c80-bea9-f4f806d1b7eb",
   "metadata": {},
   "outputs": [
    {
     "name": "stdout",
     "output_type": "stream",
     "text": [
      "7 4 3 1 6 5 12 8 10 "
     ]
    }
   ],
   "source": [
    "class Node:\n",
    "    def __init__(self,data):\n",
    "     \n",
    "        self.data = data\n",
    "        self.left = None\n",
    "        self.right = None\n",
    "     \n",
    "\n",
    "    class NodeDetails:\n",
    "        def __init__(self ,node, min, Max):\n",
    "            self.node = node\n",
    "            self.min = min\n",
    "            self.max = Max\n",
    "     \n",
    "        def preorder(root):\n",
    "            if (root == None):\n",
    "                return\n",
    "         \n",
    "    print(root.data ,end = \" \")\n",
    "    preorder(root.left)\n",
    " \n",
    "    preorder(root.right)\n",
    "\n",
    "\n",
    "def constructBST(arr, n):\n",
    "    root = Node(arr[0])\n",
    "    q = []\n",
    "    q.append(NodeDetails(root, -1000000000,\n",
    "                                  1000000000))\n",
    " \n",
    "    i = 1\n",
    " \n",
    "    while (len(q) != 0):\n",
    "        temp = q[0]\n",
    "        q = q[1:]\n",
    "        c = temp.node\n",
    "        Min = temp.min\n",
    "        Max = temp.max\n",
    " \n",
    "    \n",
    "        if (i < n and Min < arr[i] and arr[i] < c.data):\n",
    "            c.left = Node(arr[i])\n",
    "            i += 1\n",
    "            q.append(NodeDetails(c.left, Min,\n",
    "                                      c.data))\n",
    "            \n",
    "        if (i < n and c.data < arr[i] and arr[i] < Max):\n",
    "             \n",
    "            c.right = Node(arr[i])\n",
    "            i += 1\n",
    " \n",
    "            q.append(NodeDetails(c.right,\n",
    "                                    c.data, Max))\n",
    "\n",
    "    return root\n"
   ]
  },
  {
   "cell_type": "code",
   "execution_count": 34,
   "id": "8d219a7a-d9e1-4b24-b7ff-1f0b110fac7e",
   "metadata": {},
   "outputs": [
    {
     "name": "stdout",
     "output_type": "stream",
     "text": [
      "7 4 3 1 6 5 12 8 10 "
     ]
    }
   ],
   "source": [
    "n = 9\n",
    "arr = [ 7, 4, 12, 3, 6, 8, 1, 5, 10 ]\n",
    " \n",
    "# Function Call\n",
    "root = constructBST(arr, n)\n",
    " \n",
    "preorder(root)"
   ]
  },
  {
   "cell_type": "markdown",
   "id": "26195c00-290c-4a2d-9268-098c8183e8d5",
   "metadata": {},
   "source": [
    "### 3. Given an array of size n. The problem is to check whether the given array can represent the level order traversal of a Binary Search Tree or not."
   ]
  },
  {
   "cell_type": "code",
   "execution_count": 37,
   "id": "96f762c8-bce6-47dd-8d0a-cf62c27e4e8e",
   "metadata": {},
   "outputs": [],
   "source": [
    "def isValidLevelOrder(arr):\n",
    "    if len(arr) <= 1:\n",
    "        return True\n",
    "\n",
    "    stack = [arr[0]]\n",
    "    last_popped = float('-inf')\n",
    "\n",
    "    for i in range(1, len(arr)):\n",
    "        while stack and arr[i] > stack[-1]:\n",
    "            last_popped = stack.pop()\n",
    "\n",
    "        if arr[i] < last_popped:\n",
    "            return False\n",
    "\n",
    "        stack.append(arr[i])\n",
    "\n",
    "    return True"
   ]
  },
  {
   "cell_type": "code",
   "execution_count": 40,
   "id": "0d19ee32-d169-4b30-b4a7-89a8cffdfad1",
   "metadata": {},
   "outputs": [
    {
     "name": "stdout",
     "output_type": "stream",
     "text": [
      "False\n"
     ]
    }
   ],
   "source": [
    "arr = [11, 6, 13, 5, 12, 10]\n",
    "result = isValidLevelOrder(arr)\n",
    "print(result)"
   ]
  },
  {
   "cell_type": "code",
   "execution_count": null,
   "id": "42253912-07e7-45a8-9ef0-9ba1a8adc45b",
   "metadata": {},
   "outputs": [],
   "source": []
  },
  {
   "cell_type": "code",
   "execution_count": null,
   "id": "aab8ce71-1f16-4a74-82bc-5e474f4cff5e",
   "metadata": {},
   "outputs": [],
   "source": []
  }
 ],
 "metadata": {
  "kernelspec": {
   "display_name": "Python 3 (ipykernel)",
   "language": "python",
   "name": "python3"
  },
  "language_info": {
   "codemirror_mode": {
    "name": "ipython",
    "version": 3
   },
   "file_extension": ".py",
   "mimetype": "text/x-python",
   "name": "python",
   "nbconvert_exporter": "python",
   "pygments_lexer": "ipython3",
   "version": "3.10.6"
  }
 },
 "nbformat": 4,
 "nbformat_minor": 5
}
