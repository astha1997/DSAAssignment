{
 "cells": [
  {
   "cell_type": "markdown",
   "id": "401ae0b9",
   "metadata": {},
   "source": [
    "# PPT Program Python Assignment -1"
   ]
  },
  {
   "cell_type": "code",
   "execution_count": 1,
   "id": "513ce783",
   "metadata": {},
   "outputs": [],
   "source": [
    "#1. Write a Python program to reverse a string without using any built-in string reversal functions."
   ]
  },
  {
   "cell_type": "code",
   "execution_count": 2,
   "id": "535a1a8c",
   "metadata": {},
   "outputs": [
    {
     "name": "stdout",
     "output_type": "stream",
     "text": [
      "[9, 8, 7, 6, 5, 4, 3, 2, 1]\n"
     ]
    }
   ],
   "source": [
    "my_lst = [1,2,3,4,5,6,7,8,9]\n",
    "i = len(my_lst)\n",
    "new_lst = []\n",
    "while i > 0:\n",
    "    new_lst.append(my_lst[i-1])\n",
    "    i = i-1\n",
    "print(new_lst)   "
   ]
  },
  {
   "cell_type": "code",
   "execution_count": 3,
   "id": "c431b4e7",
   "metadata": {},
   "outputs": [],
   "source": [
    "#2. Implement a function to check if a given string is a palindrome."
   ]
  },
  {
   "cell_type": "code",
   "execution_count": 4,
   "id": "09d60858",
   "metadata": {},
   "outputs": [],
   "source": [
    "def check_palendrome(string:str):\n",
    "    my_string = string.upper()\n",
    "    new_string = my_string[::-1]\n",
    "    if my_string == string:\n",
    "        print(\"String is palendrome\")\n",
    "    else:\n",
    "        print(\"String is not palendrome\")"
   ]
  },
  {
   "cell_type": "code",
   "execution_count": 5,
   "id": "f37e46ab",
   "metadata": {},
   "outputs": [
    {
     "name": "stdout",
     "output_type": "stream",
     "text": [
      "String is not palendrome\n"
     ]
    }
   ],
   "source": [
    "check_palendrome(\"Nitin\")"
   ]
  },
  {
   "cell_type": "code",
   "execution_count": 6,
   "id": "992256d9",
   "metadata": {},
   "outputs": [
    {
     "name": "stdout",
     "output_type": "stream",
     "text": [
      "String is not palendrome\n"
     ]
    }
   ],
   "source": [
    "check_palendrome(\"Ayush\")"
   ]
  },
  {
   "cell_type": "code",
   "execution_count": 7,
   "id": "2527ded2",
   "metadata": {},
   "outputs": [],
   "source": [
    "#3. Write a program to find the largest element in a given list."
   ]
  },
  {
   "cell_type": "code",
   "execution_count": 8,
   "id": "116b1d66",
   "metadata": {},
   "outputs": [],
   "source": [
    "def get_large(lst:list):\n",
    "    lst.sort()\n",
    "    return lst[len(lst)-1]"
   ]
  },
  {
   "cell_type": "code",
   "execution_count": 9,
   "id": "3721b4de",
   "metadata": {},
   "outputs": [
    {
     "data": {
      "text/plain": [
       "6"
      ]
     },
     "execution_count": 9,
     "metadata": {},
     "output_type": "execute_result"
    }
   ],
   "source": [
    "get_large([1,2,3,4,5,6,2,4])"
   ]
  },
  {
   "cell_type": "code",
   "execution_count": 10,
   "id": "85fee23c",
   "metadata": {},
   "outputs": [],
   "source": [
    "#4. Implement a function to count the occurrence of each element in a list."
   ]
  },
  {
   "cell_type": "code",
   "execution_count": 11,
   "id": "f6ad4afe",
   "metadata": {},
   "outputs": [],
   "source": [
    "def get_count(lst:list):\n",
    "    d = {}\n",
    "    for i in lst:\n",
    "        d[i] = lst.count(i)\n",
    "    return d"
   ]
  },
  {
   "cell_type": "code",
   "execution_count": 12,
   "id": "7d37e194",
   "metadata": {},
   "outputs": [
    {
     "data": {
      "text/plain": [
       "{1: 1, 2: 3, 3: 1, 5: 1, 'a': 2, 'b': 1}"
      ]
     },
     "execution_count": 12,
     "metadata": {},
     "output_type": "execute_result"
    }
   ],
   "source": [
    "get_count([1,2,3,5,2,2,\"a\",\"b\",\"a\"])\n"
   ]
  },
  {
   "cell_type": "code",
   "execution_count": 13,
   "id": "2db6396b",
   "metadata": {},
   "outputs": [],
   "source": [
    "#5. Write a Python program to find the second largest number in a list."
   ]
  },
  {
   "cell_type": "code",
   "execution_count": 14,
   "id": "87b457db",
   "metadata": {},
   "outputs": [],
   "source": [
    "def get_seclarge(lst:list):\n",
    "    unq_lst = list(set(lst))\n",
    "    unq_lst.sort()\n",
    "    #print(unq_lst)\n",
    "    return unq_lst[-2]"
   ]
  },
  {
   "cell_type": "code",
   "execution_count": 15,
   "id": "fee2ed65",
   "metadata": {},
   "outputs": [
    {
     "data": {
      "text/plain": [
       "56"
      ]
     },
     "execution_count": 15,
     "metadata": {},
     "output_type": "execute_result"
    }
   ],
   "source": [
    "get_seclarge([2,4,3,2,56,78,45,34,46])"
   ]
  },
  {
   "cell_type": "code",
   "execution_count": 16,
   "id": "09550776",
   "metadata": {},
   "outputs": [],
   "source": [
    "#6. Implement a function to remove duplicate elements from a list."
   ]
  },
  {
   "cell_type": "code",
   "execution_count": 17,
   "id": "4f8547c6",
   "metadata": {},
   "outputs": [],
   "source": [
    "def unq_element(lst:list):\n",
    "    return list(set(lst))"
   ]
  },
  {
   "cell_type": "code",
   "execution_count": 18,
   "id": "bd9cf1fc",
   "metadata": {},
   "outputs": [],
   "source": [
    "def unq_element_new(lst:list):\n",
    "    new_lst = []\n",
    "    for i in lst:\n",
    "        if i in new_lst:\n",
    "            pass\n",
    "        else:\n",
    "            new_lst.append(i)\n",
    "    return new_lst"
   ]
  },
  {
   "cell_type": "code",
   "execution_count": 19,
   "id": "f96228cc",
   "metadata": {},
   "outputs": [
    {
     "data": {
      "text/plain": [
       "[1, 2, 3, 4, 12]"
      ]
     },
     "execution_count": 19,
     "metadata": {},
     "output_type": "execute_result"
    }
   ],
   "source": [
    "unq_element([1,2,3,4,2,3,12,2])"
   ]
  },
  {
   "cell_type": "code",
   "execution_count": 20,
   "id": "028af24d",
   "metadata": {},
   "outputs": [
    {
     "data": {
      "text/plain": [
       "[1, 2, 3, 4, 12]"
      ]
     },
     "execution_count": 20,
     "metadata": {},
     "output_type": "execute_result"
    }
   ],
   "source": [
    "unq_element_new([1,2,3,4,2,3,12,2])"
   ]
  },
  {
   "cell_type": "code",
   "execution_count": 21,
   "id": "838df0c2",
   "metadata": {},
   "outputs": [],
   "source": [
    "#7. Write a program to calculate the factorial of a given number."
   ]
  },
  {
   "cell_type": "code",
   "execution_count": 22,
   "id": "12618f43",
   "metadata": {},
   "outputs": [],
   "source": [
    "def calc_fact(n):\n",
    "    fact = 1\n",
    "    while n >= 1:\n",
    "        fact = fact*n\n",
    "        n = n-1\n",
    "    return fact"
   ]
  },
  {
   "cell_type": "code",
   "execution_count": 23,
   "id": "35f6ac4d",
   "metadata": {},
   "outputs": [
    {
     "data": {
      "text/plain": [
       "120"
      ]
     },
     "execution_count": 23,
     "metadata": {},
     "output_type": "execute_result"
    }
   ],
   "source": [
    "calc_fact(5)"
   ]
  },
  {
   "cell_type": "code",
   "execution_count": 24,
   "id": "46ff7faa",
   "metadata": {},
   "outputs": [],
   "source": [
    "# 8. Implement a function to check if a given number is prime."
   ]
  },
  {
   "cell_type": "code",
   "execution_count": 25,
   "id": "5018881c",
   "metadata": {},
   "outputs": [],
   "source": [
    "def check_prime(n):\n",
    "    a = n\n",
    "    count = 0\n",
    "    while a >= 1:\n",
    "        if n % a == 0:\n",
    "            count = count+1\n",
    "        a = a-1\n",
    "    if count > 2:\n",
    "        print(\"not a prime no.\")\n",
    "    else:\n",
    "        print(\"Its a prime no\")"
   ]
  },
  {
   "cell_type": "code",
   "execution_count": 26,
   "id": "5d58d23a",
   "metadata": {},
   "outputs": [
    {
     "name": "stdout",
     "output_type": "stream",
     "text": [
      "not a prime no.\n"
     ]
    }
   ],
   "source": [
    "check_prime(10)"
   ]
  },
  {
   "cell_type": "code",
   "execution_count": 27,
   "id": "45e2531b",
   "metadata": {},
   "outputs": [
    {
     "name": "stdout",
     "output_type": "stream",
     "text": [
      "Its a prime no\n"
     ]
    }
   ],
   "source": [
    "check_prime(7)"
   ]
  },
  {
   "cell_type": "code",
   "execution_count": 28,
   "id": "344ca3d3",
   "metadata": {},
   "outputs": [],
   "source": [
    "#9. Write a Python program to sort a list of integers in ascending order."
   ]
  },
  {
   "cell_type": "code",
   "execution_count": 29,
   "id": "cbc99c40",
   "metadata": {},
   "outputs": [],
   "source": [
    "def sort_lst(lst:list):\n",
    "    lst.sort()\n",
    "    return lst"
   ]
  },
  {
   "cell_type": "code",
   "execution_count": 30,
   "id": "03298c3a",
   "metadata": {},
   "outputs": [
    {
     "data": {
      "text/plain": [
       "[1, 1, 1, 2, 2, 3, 4, 5, 5, 6, 78]"
      ]
     },
     "execution_count": 30,
     "metadata": {},
     "output_type": "execute_result"
    }
   ],
   "source": [
    "sort_lst([3,2,4,1,5,1,6,2,5,1,78])"
   ]
  },
  {
   "cell_type": "code",
   "execution_count": 31,
   "id": "7063cab4",
   "metadata": {},
   "outputs": [],
   "source": [
    "#10. Implement a function to find the sum of all numbers in a list."
   ]
  },
  {
   "cell_type": "code",
   "execution_count": 32,
   "id": "2dc9d79b",
   "metadata": {},
   "outputs": [],
   "source": [
    "def sum_list(lst:list):\n",
    "    return sum(lst)"
   ]
  },
  {
   "cell_type": "code",
   "execution_count": 33,
   "id": "d35858c8",
   "metadata": {},
   "outputs": [],
   "source": [
    "def add_list(lst:list):\n",
    "    sumi = 0\n",
    "    for i in lst:\n",
    "        sumi = sumi+i\n",
    "    return sumi"
   ]
  },
  {
   "cell_type": "code",
   "execution_count": 34,
   "id": "1064a88a",
   "metadata": {},
   "outputs": [
    {
     "data": {
      "text/plain": [
       "15"
      ]
     },
     "execution_count": 34,
     "metadata": {},
     "output_type": "execute_result"
    }
   ],
   "source": [
    "sum_list([1,2,3,4,5])"
   ]
  },
  {
   "cell_type": "code",
   "execution_count": 35,
   "id": "d06df05d",
   "metadata": {},
   "outputs": [
    {
     "data": {
      "text/plain": [
       "15"
      ]
     },
     "execution_count": 35,
     "metadata": {},
     "output_type": "execute_result"
    }
   ],
   "source": [
    "add_list([1,2,3,4,5])"
   ]
  },
  {
   "cell_type": "code",
   "execution_count": 36,
   "id": "57c64cd4",
   "metadata": {},
   "outputs": [
    {
     "name": "stdout",
     "output_type": "stream",
     "text": [
      "Comman element between 2 lists are [5, 7]\n"
     ]
    }
   ],
   "source": [
    "#11. Write a program to find the common elements between two lists.\n",
    "lsta = [2,4,5,7,6]\n",
    "lstb = [1,3,5,7,9]\n",
    "lstc = []\n",
    "\n",
    "for i in lsta:\n",
    "   if i in lstb:\n",
    "    lstc.append(i)\n",
    "    \n",
    "print(\"Comman element between 2 lists are\", lstc)"
   ]
  },
  {
   "cell_type": "code",
   "execution_count": 37,
   "id": "4c56c6a1",
   "metadata": {},
   "outputs": [],
   "source": [
    "#12. Implement a function to check if a given string is an anagram of another string."
   ]
  },
  {
   "cell_type": "code",
   "execution_count": 38,
   "id": "ff98c06f",
   "metadata": {},
   "outputs": [],
   "source": [
    "def checkAnagram(str1:str,str2:str):\n",
    "    a = 0\n",
    "    if len(str1) == len(str2):\n",
    "        for i in str1:\n",
    "            if i in str2:\n",
    "                a = a+1\n",
    "        if a == len(str1):\n",
    "            print(\"String is anagram\")\n",
    "        else:\n",
    "            print(\"String is not anagram\")\n",
    "    else:\n",
    "        print(\"String is not anagram\")"
   ]
  },
  {
   "cell_type": "code",
   "execution_count": 39,
   "id": "7045f8fe",
   "metadata": {},
   "outputs": [
    {
     "name": "stdout",
     "output_type": "stream",
     "text": [
      "String is anagram\n"
     ]
    }
   ],
   "source": [
    "checkAnagram(\"abcd\",\"dabc\")"
   ]
  },
  {
   "cell_type": "code",
   "execution_count": 40,
   "id": "490037b7",
   "metadata": {},
   "outputs": [
    {
     "name": "stdout",
     "output_type": "stream",
     "text": [
      "String is not anagram\n"
     ]
    }
   ],
   "source": [
    "checkAnagram('abcd','cdef')"
   ]
  },
  {
   "cell_type": "code",
   "execution_count": 41,
   "id": "2edde0c6",
   "metadata": {},
   "outputs": [],
   "source": [
    "#13. Write a Python program to generate all permutations of a given string."
   ]
  },
  {
   "cell_type": "code",
   "execution_count": null,
   "id": "5541b30e",
   "metadata": {},
   "outputs": [],
   "source": []
  },
  {
   "cell_type": "code",
   "execution_count": 42,
   "id": "38c093ad",
   "metadata": {},
   "outputs": [],
   "source": [
    "#14. Implement a function to calculate the Fibonacci sequence up to a given number of terms"
   ]
  },
  {
   "cell_type": "code",
   "execution_count": null,
   "id": "ffb885e8-ce86-4794-a8dd-b843d2db3b1d",
   "metadata": {},
   "outputs": [],
   "source": [
    "def getFibonacci(n:int):\n",
    "    a = 0\n",
    "    b = 1\n",
    "    l = []\n",
    "    for i in range(2,n):\n",
    "        "
   ]
  },
  {
   "cell_type": "code",
   "execution_count": 44,
   "id": "24b9a604",
   "metadata": {},
   "outputs": [],
   "source": [
    "#15. Write a program to find the median of a list of numbers."
   ]
  },
  {
   "cell_type": "code",
   "execution_count": 45,
   "id": "c39ec746",
   "metadata": {},
   "outputs": [],
   "source": [
    "def getMedian(lst:list):\n",
    "    lenth = len(lst)\n",
    "    if lenth%2 == 0:\n",
    "        a = lenth//2-1\n",
    "        b = a+1\n",
    "        median = (lst[a]+lst[b])/2\n",
    "        print(\"Median is: \",median)\n",
    "        \n",
    "    else:\n",
    "        print(\"Median is: \",lst[lenth//2])"
   ]
  },
  {
   "cell_type": "code",
   "execution_count": 46,
   "id": "39c1302b",
   "metadata": {},
   "outputs": [
    {
     "name": "stdout",
     "output_type": "stream",
     "text": [
      "Median is:  5\n"
     ]
    }
   ],
   "source": [
    "getMedian([1,2,3,4,5,6,7,8,9])"
   ]
  },
  {
   "cell_type": "code",
   "execution_count": 47,
   "id": "ad07a806",
   "metadata": {},
   "outputs": [
    {
     "data": {
      "text/plain": [
       "4"
      ]
     },
     "execution_count": 47,
     "metadata": {},
     "output_type": "execute_result"
    }
   ],
   "source": [
    "8//2"
   ]
  },
  {
   "cell_type": "code",
   "execution_count": 48,
   "id": "7dd58e04",
   "metadata": {},
   "outputs": [],
   "source": [
    "import numpy as np\n",
    "def calcMedian(lst:list):\n",
    "    return np.median(lst)"
   ]
  },
  {
   "cell_type": "code",
   "execution_count": 49,
   "id": "0ad8aa5a",
   "metadata": {},
   "outputs": [
    {
     "data": {
      "text/plain": [
       "4.5"
      ]
     },
     "execution_count": 49,
     "metadata": {},
     "output_type": "execute_result"
    }
   ],
   "source": [
    "calcMedian([1,2,3,4,5,6,7,8])"
   ]
  },
  {
   "cell_type": "code",
   "execution_count": 50,
   "id": "8f0d7a1c",
   "metadata": {},
   "outputs": [],
   "source": [
    "#16. Implement a function to check if a given list is sorted in non-decreasing order."
   ]
  },
  {
   "cell_type": "code",
   "execution_count": 51,
   "id": "4ea68e8b",
   "metadata": {},
   "outputs": [],
   "source": [
    "def checksortednondec(lst:list):\n",
    "    n = len(lst)\n",
    "    if lst[0]<=lst[n-1]:\n",
    "        return True\n",
    "    else:\n",
    "        return False"
   ]
  },
  {
   "cell_type": "code",
   "execution_count": 52,
   "id": "29379893",
   "metadata": {},
   "outputs": [
    {
     "data": {
      "text/plain": [
       "True"
      ]
     },
     "execution_count": 52,
     "metadata": {},
     "output_type": "execute_result"
    }
   ],
   "source": [
    "checksortednondec([1,2,3,4,5])"
   ]
  },
  {
   "cell_type": "code",
   "execution_count": 53,
   "id": "4bf0f10e",
   "metadata": {},
   "outputs": [
    {
     "data": {
      "text/plain": [
       "False"
      ]
     },
     "execution_count": 53,
     "metadata": {},
     "output_type": "execute_result"
    }
   ],
   "source": [
    "checksortednondec([5,4,3,2,1])"
   ]
  },
  {
   "cell_type": "code",
   "execution_count": 54,
   "id": "13dd2cd2",
   "metadata": {},
   "outputs": [],
   "source": [
    "#17. Write a Python program to find the intersection of two lists."
   ]
  },
  {
   "cell_type": "code",
   "execution_count": 55,
   "id": "51d0adbb",
   "metadata": {},
   "outputs": [
    {
     "name": "stdout",
     "output_type": "stream",
     "text": [
      "Intersection of 2 lists are [5, 7]\n"
     ]
    }
   ],
   "source": [
    "lsta = [2,4,5,7,6]\n",
    "lstb = [1,3,5,7,9]\n",
    "lstc = []\n",
    "\n",
    "for i in lsta:\n",
    "   if i in lstb:\n",
    "    lstc.append(i)\n",
    "    \n",
    "print(\"Intersection of 2 lists are\", lstc)"
   ]
  },
  {
   "cell_type": "code",
   "execution_count": 56,
   "id": "6018043a",
   "metadata": {},
   "outputs": [],
   "source": [
    "#18. Implement a function to find the maximum subarray sum in a given list."
   ]
  },
  {
   "cell_type": "code",
   "execution_count": null,
   "id": "bb790167",
   "metadata": {},
   "outputs": [],
   "source": []
  },
  {
   "cell_type": "code",
   "execution_count": 57,
   "id": "6015c38b",
   "metadata": {},
   "outputs": [],
   "source": [
    "#19. Write a program to remove all vowels from a given string."
   ]
  },
  {
   "cell_type": "code",
   "execution_count": 58,
   "id": "1d0f3c93",
   "metadata": {},
   "outputs": [],
   "source": [
    "def removeVovel(string:str):\n",
    "    vovel = \"AEIOUaeiou\"\n",
    "    new_string = \"\"\n",
    "    for i in string:\n",
    "        if i in vovel:\n",
    "            continue\n",
    "        new_string = new_string+i\n",
    "    return new_string"
   ]
  },
  {
   "cell_type": "code",
   "execution_count": 59,
   "id": "34270eb6",
   "metadata": {},
   "outputs": [
    {
     "data": {
      "text/plain": [
       "'ysh'"
      ]
     },
     "execution_count": 59,
     "metadata": {},
     "output_type": "execute_result"
    }
   ],
   "source": [
    "removeVovel(\"Ayush\")"
   ]
  },
  {
   "cell_type": "code",
   "execution_count": 60,
   "id": "75f67276",
   "metadata": {},
   "outputs": [],
   "source": [
    "#20. Implement a function to reverse the order of words in a given sentence."
   ]
  },
  {
   "cell_type": "code",
   "execution_count": null,
   "id": "50ce273b",
   "metadata": {},
   "outputs": [],
   "source": []
  },
  {
   "cell_type": "code",
   "execution_count": 61,
   "id": "41ceacbf",
   "metadata": {},
   "outputs": [],
   "source": [
    "#21. Write a Python program to check if two strings are anagrams of each other."
   ]
  },
  {
   "cell_type": "code",
   "execution_count": 62,
   "id": "0a21485a",
   "metadata": {},
   "outputs": [],
   "source": [
    "def checkAnagram(str1:str,str2:str):\n",
    "    a = 0\n",
    "    if len(str1) == len(str2):\n",
    "        for i in str1:\n",
    "            if i in str2:\n",
    "                a = a+1\n",
    "        if a == len(str1):\n",
    "            print(\"String is anagram\")\n",
    "        else:\n",
    "            print(\"String is not anagram\")\n",
    "    else:\n",
    "        print(\"String is not anagram\")"
   ]
  },
  {
   "cell_type": "code",
   "execution_count": 63,
   "id": "7d7453b1",
   "metadata": {},
   "outputs": [
    {
     "name": "stdout",
     "output_type": "stream",
     "text": [
      "String is anagram\n"
     ]
    }
   ],
   "source": [
    "checkAnagram(\"abcd\",\"bdca\")"
   ]
  },
  {
   "cell_type": "code",
   "execution_count": 64,
   "id": "314c0937",
   "metadata": {},
   "outputs": [
    {
     "name": "stdout",
     "output_type": "stream",
     "text": [
      "String is not anagram\n"
     ]
    }
   ],
   "source": [
    "checkAnagram('abcd','cdef')"
   ]
  },
  {
   "cell_type": "code",
   "execution_count": 65,
   "id": "e859e157",
   "metadata": {},
   "outputs": [],
   "source": [
    "#22. Implement a function to find the first non-repeating character in a string."
   ]
  },
  {
   "cell_type": "code",
   "execution_count": null,
   "id": "473ae693",
   "metadata": {},
   "outputs": [],
   "source": []
  },
  {
   "cell_type": "code",
   "execution_count": 66,
   "id": "ea793e93",
   "metadata": {},
   "outputs": [],
   "source": [
    "#23. Write a program to find the prime factors of a given number."
   ]
  },
  {
   "cell_type": "code",
   "execution_count": null,
   "id": "b2d5038d",
   "metadata": {},
   "outputs": [],
   "source": []
  },
  {
   "cell_type": "code",
   "execution_count": 67,
   "id": "84086b48",
   "metadata": {},
   "outputs": [],
   "source": [
    "#24. Implement a function to check if a given number is a power of two."
   ]
  },
  {
   "cell_type": "code",
   "execution_count": 68,
   "id": "8cb8d4c0",
   "metadata": {},
   "outputs": [],
   "source": [
    "def checkPower2(num:int):\n",
    "    val = 0\n",
    "    a = 0\n",
    "    while val < num:\n",
    "        val = 2**a\n",
    "        a = a+1\n",
    "        if val == num:\n",
    "            return True\n",
    "        \n"
   ]
  },
  {
   "cell_type": "code",
   "execution_count": 69,
   "id": "60575524",
   "metadata": {},
   "outputs": [
    {
     "name": "stdout",
     "output_type": "stream",
     "text": [
      "No Number is not power of 2\n"
     ]
    }
   ],
   "source": [
    "if(checkPower2(9)):\n",
    "    print(\"Yes Number is power of 2\")\n",
    "else:\n",
    "    print(\"No Number is not power of 2\")"
   ]
  },
  {
   "cell_type": "code",
   "execution_count": 70,
   "id": "5d7f49d8",
   "metadata": {},
   "outputs": [],
   "source": [
    "#25. Write a Python program to merge two sorted lists into a single sorted list."
   ]
  },
  {
   "cell_type": "code",
   "execution_count": 71,
   "id": "4b6b770b",
   "metadata": {},
   "outputs": [],
   "source": [
    "def mergeSortedList(lst1:list,lst2:list):\n",
    "    lst1.extend(lst2)\n",
    "    lst1.sort()\n",
    "    return lst1"
   ]
  },
  {
   "cell_type": "code",
   "execution_count": 72,
   "id": "bcbecfcb",
   "metadata": {},
   "outputs": [
    {
     "data": {
      "text/plain": [
       "[1, 2, 3, 3, 4, 4, 5, 6, 7, 8]"
      ]
     },
     "execution_count": 72,
     "metadata": {},
     "output_type": "execute_result"
    }
   ],
   "source": [
    "mergeSortedList([1,2,3,4],[3,4,5,6,7,8])"
   ]
  },
  {
   "cell_type": "code",
   "execution_count": 73,
   "id": "c14c58ff",
   "metadata": {},
   "outputs": [],
   "source": [
    "#26. Implement a function to find the mode of a list of numbers."
   ]
  },
  {
   "cell_type": "code",
   "execution_count": 74,
   "id": "7ecce33e",
   "metadata": {},
   "outputs": [],
   "source": [
    "import statistics as stats\n",
    "def getmode(lst:list):\n",
    "    return stats.mode(lst)"
   ]
  },
  {
   "cell_type": "code",
   "execution_count": 75,
   "id": "6580778f",
   "metadata": {},
   "outputs": [
    {
     "data": {
      "text/plain": [
       "2"
      ]
     },
     "execution_count": 75,
     "metadata": {},
     "output_type": "execute_result"
    }
   ],
   "source": [
    "getmode([1,4,6,8,1,23,5,3,2,2,2,4,5])"
   ]
  },
  {
   "cell_type": "code",
   "execution_count": 76,
   "id": "ebf98a36",
   "metadata": {},
   "outputs": [],
   "source": [
    "#27. Write a program to find the greatest common divisor (GCD) of two numbers."
   ]
  },
  {
   "cell_type": "code",
   "execution_count": null,
   "id": "f996b46d",
   "metadata": {},
   "outputs": [],
   "source": []
  },
  {
   "cell_type": "code",
   "execution_count": 77,
   "id": "64c005b3",
   "metadata": {},
   "outputs": [],
   "source": [
    "#28. Implement a function to calculate the square root of a given number."
   ]
  },
  {
   "cell_type": "code",
   "execution_count": 78,
   "id": "c8021bf5",
   "metadata": {},
   "outputs": [],
   "source": [
    "import math\n",
    "def calcSquareroot(n):\n",
    "    return math.sqrt(n)"
   ]
  },
  {
   "cell_type": "code",
   "execution_count": 79,
   "id": "7289e3c4",
   "metadata": {},
   "outputs": [
    {
     "data": {
      "text/plain": [
       "5.0"
      ]
     },
     "execution_count": 79,
     "metadata": {},
     "output_type": "execute_result"
    }
   ],
   "source": [
    "calcSquareroot(25)"
   ]
  },
  {
   "cell_type": "code",
   "execution_count": 80,
   "id": "2a898357",
   "metadata": {},
   "outputs": [],
   "source": [
    "#29. Write a Python program to check if a given string is a valid palindrome ignoring non-alphanumeric characters."
   ]
  },
  {
   "cell_type": "code",
   "execution_count": 81,
   "id": "af7c5679",
   "metadata": {},
   "outputs": [],
   "source": [
    "def checkValidPalendrome(string:str):\n",
    "    my_string = string.upper()\n",
    "    new_string = my_string[::-1]\n",
    "    if my_string == string:\n",
    "        print(\"String is palendrome\")\n",
    "    else:\n",
    "        print(\"String is not palendrome\")"
   ]
  },
  {
   "cell_type": "code",
   "execution_count": 82,
   "id": "77b7ba0e",
   "metadata": {},
   "outputs": [
    {
     "name": "stdout",
     "output_type": "stream",
     "text": [
      "String is not palendrome\n"
     ]
    }
   ],
   "source": [
    "checkValidPalendrome(\"nitin\")"
   ]
  },
  {
   "cell_type": "code",
   "execution_count": 83,
   "id": "761e9507",
   "metadata": {},
   "outputs": [
    {
     "name": "stdout",
     "output_type": "stream",
     "text": [
      "String is not palendrome\n"
     ]
    }
   ],
   "source": [
    "checkValidPalendrome(\"Ayush\")"
   ]
  },
  {
   "cell_type": "code",
   "execution_count": 84,
   "id": "fcfd5dd0",
   "metadata": {},
   "outputs": [],
   "source": [
    "#30. Implement a function to find the minimum element in a rotated sorted list."
   ]
  },
  {
   "cell_type": "code",
   "execution_count": 85,
   "id": "dbeef591",
   "metadata": {},
   "outputs": [],
   "source": [
    "def minRotated(lst:list):\n",
    "    n = len(lst)\n",
    "    r = n-1\n",
    "    l = 0\n",
    "    while l<r:\n",
    "        if lst[l]<lst[r]:\n",
    "            return lst[l]\n",
    "        mid = l+(r-l)//2\n",
    "        if lst[mid] > lst[r]:\n",
    "            l = mid+1\n",
    "        else:\n",
    "            r = mid\n",
    "    return lst[l]"
   ]
  },
  {
   "cell_type": "code",
   "execution_count": 86,
   "id": "4fc287b2",
   "metadata": {},
   "outputs": [
    {
     "data": {
      "text/plain": [
       "1"
      ]
     },
     "execution_count": 86,
     "metadata": {},
     "output_type": "execute_result"
    }
   ],
   "source": [
    "minRotated([4,5,6,7,1,2,3,])"
   ]
  },
  {
   "cell_type": "code",
   "execution_count": 87,
   "id": "6cf45274",
   "metadata": {},
   "outputs": [],
   "source": [
    "#31. Write a program to find the sum of all even numbers in a list."
   ]
  },
  {
   "cell_type": "code",
   "execution_count": 88,
   "id": "4f47c67f",
   "metadata": {},
   "outputs": [],
   "source": [
    "def sumEvenNum(lst:list):\n",
    "    sumeven = 0\n",
    "    for i in lst:\n",
    "        if i%2 == 0:\n",
    "           sumeven = sumeven+i\n",
    "    return sumeven"
   ]
  },
  {
   "cell_type": "code",
   "execution_count": 89,
   "id": "dafbc2b5",
   "metadata": {},
   "outputs": [
    {
     "data": {
      "text/plain": [
       "26"
      ]
     },
     "execution_count": 89,
     "metadata": {},
     "output_type": "execute_result"
    }
   ],
   "source": [
    "sumEvenNum([2,4,3,1,5,3,4,6,7,4,5,7,6])"
   ]
  },
  {
   "cell_type": "code",
   "execution_count": 90,
   "id": "078c42bf",
   "metadata": {},
   "outputs": [],
   "source": [
    "#32. Implement a function to calculate the power of a number using recursion."
   ]
  },
  {
   "cell_type": "code",
   "execution_count": 91,
   "id": "864752a8",
   "metadata": {},
   "outputs": [],
   "source": [
    "def powerN(n,p):\n",
    "    if p == 0:\n",
    "        return 1\n",
    "    else:\n",
    "        return n*powerN(n, p-1)"
   ]
  },
  {
   "cell_type": "code",
   "execution_count": 92,
   "id": "6b64ddc7",
   "metadata": {},
   "outputs": [
    {
     "data": {
      "text/plain": [
       "16"
      ]
     },
     "execution_count": 92,
     "metadata": {},
     "output_type": "execute_result"
    }
   ],
   "source": [
    "powerN(2,4)"
   ]
  },
  {
   "cell_type": "code",
   "execution_count": 93,
   "id": "9e2b2ca8",
   "metadata": {},
   "outputs": [],
   "source": [
    "#33. Write a Python program to remove duplicates from a list while preserving the order."
   ]
  },
  {
   "cell_type": "code",
   "execution_count": 94,
   "id": "c47ca222",
   "metadata": {},
   "outputs": [],
   "source": [
    "def unqlist(lst:list):\n",
    "    lst_new = []\n",
    "    for i in lst:\n",
    "        if i not in lst_new:\n",
    "            lst_new.append(i)\n",
    "    return lst_new\n"
   ]
  },
  {
   "cell_type": "code",
   "execution_count": 95,
   "id": "c980b4f5",
   "metadata": {},
   "outputs": [
    {
     "data": {
      "text/plain": [
       "[1, 2, 3, 4, 5]"
      ]
     },
     "execution_count": 95,
     "metadata": {},
     "output_type": "execute_result"
    }
   ],
   "source": [
    "unqlist([1,2,3,1,2,4,2,5])"
   ]
  },
  {
   "cell_type": "code",
   "execution_count": 96,
   "id": "03f7bf63",
   "metadata": {},
   "outputs": [],
   "source": [
    "#34. Implement a function to find the longest common prefix among a list of strings."
   ]
  },
  {
   "cell_type": "code",
   "execution_count": null,
   "id": "d5904899",
   "metadata": {},
   "outputs": [],
   "source": []
  },
  {
   "cell_type": "code",
   "execution_count": 97,
   "id": "cc910a66",
   "metadata": {},
   "outputs": [],
   "source": [
    "#35. Write a program to check if a given number is a perfect square."
   ]
  },
  {
   "cell_type": "code",
   "execution_count": 98,
   "id": "c2aa3a68",
   "metadata": {},
   "outputs": [],
   "source": [
    "import math\n",
    "def checkPerfectSq(n:int):\n",
    "    if n >= 0:\n",
    "        urt = int(math.sqrt(n))\n",
    "        if (urt*urt) == n:\n",
    "            return True\n",
    "    return False"
   ]
  },
  {
   "cell_type": "code",
   "execution_count": 99,
   "id": "3540e275",
   "metadata": {},
   "outputs": [
    {
     "data": {
      "text/plain": [
       "True"
      ]
     },
     "execution_count": 99,
     "metadata": {},
     "output_type": "execute_result"
    }
   ],
   "source": [
    "checkPerfectSq(100)"
   ]
  },
  {
   "cell_type": "code",
   "execution_count": 100,
   "id": "073cd2b3",
   "metadata": {},
   "outputs": [
    {
     "data": {
      "text/plain": [
       "False"
      ]
     },
     "execution_count": 100,
     "metadata": {},
     "output_type": "execute_result"
    }
   ],
   "source": [
    "checkPerfectSq(95)"
   ]
  },
  {
   "cell_type": "code",
   "execution_count": 101,
   "id": "e10cd3a4",
   "metadata": {},
   "outputs": [],
   "source": [
    "#36. Implement a function to calculate the product of all elements in a list."
   ]
  },
  {
   "cell_type": "code",
   "execution_count": 102,
   "id": "7bc54b72",
   "metadata": {},
   "outputs": [],
   "source": [
    "def calcProd(lst:list):\n",
    "    prod = 1\n",
    "    for i in lst:\n",
    "        prod = prod*i\n",
    "    return prod"
   ]
  },
  {
   "cell_type": "code",
   "execution_count": 103,
   "id": "a879aae2",
   "metadata": {},
   "outputs": [
    {
     "data": {
      "text/plain": [
       "120"
      ]
     },
     "execution_count": 103,
     "metadata": {},
     "output_type": "execute_result"
    }
   ],
   "source": [
    "calcProd([1,2,3,4,5])"
   ]
  },
  {
   "cell_type": "code",
   "execution_count": 104,
   "id": "faf84ea2",
   "metadata": {},
   "outputs": [],
   "source": [
    "#37. Write a Python program to reverse the order of words in a sentence while preserving the word order."
   ]
  },
  {
   "cell_type": "code",
   "execution_count": 105,
   "id": "38f24a70",
   "metadata": {},
   "outputs": [],
   "source": [
    "def revWord(st:str):\n",
    "    return st.split( )[::-1]"
   ]
  },
  {
   "cell_type": "code",
   "execution_count": 106,
   "id": "3e262c21",
   "metadata": {},
   "outputs": [
    {
     "data": {
      "text/plain": [
       "['Python', 'love', 'I']"
      ]
     },
     "execution_count": 106,
     "metadata": {},
     "output_type": "execute_result"
    }
   ],
   "source": [
    "revWord(\"I love Python\")"
   ]
  },
  {
   "cell_type": "code",
   "execution_count": 107,
   "id": "53fbb517",
   "metadata": {},
   "outputs": [],
   "source": [
    "#38. Implement a function to find the missing number in a given list of consecutive numbers."
   ]
  },
  {
   "cell_type": "code",
   "execution_count": 108,
   "id": "9a2715d8",
   "metadata": {},
   "outputs": [],
   "source": [
    "def getMissingNum(lst:list):\n",
    "    for i in range(len(lst)):\n",
    "        if lst[i+1] != lst[i]+1:\n",
    "            return lst[i]+1\n",
    "    \n",
    "            "
   ]
  },
  {
   "cell_type": "code",
   "execution_count": 109,
   "id": "d1d2eca9",
   "metadata": {},
   "outputs": [
    {
     "data": {
      "text/plain": [
       "4"
      ]
     },
     "execution_count": 109,
     "metadata": {},
     "output_type": "execute_result"
    }
   ],
   "source": [
    "getMissingNum([1,2,3,5,6])"
   ]
  },
  {
   "cell_type": "code",
   "execution_count": 110,
   "id": "135c8bf3",
   "metadata": {},
   "outputs": [],
   "source": [
    "#39. Write a program to find the sum of digits of a given number."
   ]
  },
  {
   "cell_type": "code",
   "execution_count": 111,
   "id": "50cb151b",
   "metadata": {},
   "outputs": [],
   "source": [
    "def SumOfDigit(n:int):\n",
    "    summ = 0\n",
    "    while n > 0:\n",
    "        summ = summ+(n%10)\n",
    "        n = n//10\n",
    "    return summ"
   ]
  },
  {
   "cell_type": "code",
   "execution_count": 112,
   "id": "0495cad4",
   "metadata": {},
   "outputs": [
    {
     "data": {
      "text/plain": [
       "10"
      ]
     },
     "execution_count": 112,
     "metadata": {},
     "output_type": "execute_result"
    }
   ],
   "source": [
    "SumOfDigit(1234)"
   ]
  },
  {
   "cell_type": "code",
   "execution_count": 113,
   "id": "0305000e",
   "metadata": {},
   "outputs": [],
   "source": [
    "#40. Implement a function to check if a given string is a valid palindrome considering case sensitivity."
   ]
  },
  {
   "cell_type": "code",
   "execution_count": 114,
   "id": "6a5b4839",
   "metadata": {},
   "outputs": [],
   "source": [
    "def checkPalindrome(st:str):\n",
    "    if st == st[::-1]:\n",
    "        return \"String is valid palindrom\"\n",
    "    else:\n",
    "        return \"String is not a valid plindrom\""
   ]
  },
  {
   "cell_type": "code",
   "execution_count": 115,
   "id": "43d86c25",
   "metadata": {},
   "outputs": [
    {
     "data": {
      "text/plain": [
       "'String is valid palindrom'"
      ]
     },
     "execution_count": 115,
     "metadata": {},
     "output_type": "execute_result"
    }
   ],
   "source": [
    "checkPalindrome(\"nitin\")"
   ]
  },
  {
   "cell_type": "code",
   "execution_count": 116,
   "id": "373edbd6",
   "metadata": {},
   "outputs": [
    {
     "data": {
      "text/plain": [
       "'String is not a valid plindrom'"
      ]
     },
     "execution_count": 116,
     "metadata": {},
     "output_type": "execute_result"
    }
   ],
   "source": [
    "checkPalindrome(\"Nitin\")"
   ]
  },
  {
   "cell_type": "code",
   "execution_count": 117,
   "id": "a961a0f0",
   "metadata": {},
   "outputs": [],
   "source": [
    "#41. Write a Python program to find the smallest missing positive integer in a list."
   ]
  },
  {
   "cell_type": "code",
   "execution_count": null,
   "id": "ab853eb8",
   "metadata": {},
   "outputs": [],
   "source": []
  },
  {
   "cell_type": "code",
   "execution_count": 118,
   "id": "63a0a349",
   "metadata": {},
   "outputs": [],
   "source": [
    "#42. Implement a function to find the longest palindrome substring in a given string."
   ]
  },
  {
   "cell_type": "code",
   "execution_count": null,
   "id": "379fd165",
   "metadata": {},
   "outputs": [],
   "source": []
  },
  {
   "cell_type": "code",
   "execution_count": 119,
   "id": "8c800bf7",
   "metadata": {},
   "outputs": [],
   "source": [
    "#43. Write a program to find the number of occurrences of a given element in a list."
   ]
  },
  {
   "cell_type": "code",
   "execution_count": 120,
   "id": "53e7ebde",
   "metadata": {},
   "outputs": [],
   "source": [
    "def get_count(lst:list):\n",
    "    d = {}\n",
    "    for i in lst:\n",
    "        d[i] = lst.count(i)\n",
    "    return d"
   ]
  },
  {
   "cell_type": "code",
   "execution_count": 121,
   "id": "0cd4294d",
   "metadata": {},
   "outputs": [
    {
     "data": {
      "text/plain": [
       "{1: 2, 2: 3, 3: 3, 6: 2, 4: 2, 5: 2, 7: 1, 8: 1}"
      ]
     },
     "execution_count": 121,
     "metadata": {},
     "output_type": "execute_result"
    }
   ],
   "source": [
    "get_count([1,2,3,6,3,2,1,4,3,2,4,5,7,5,6,8])"
   ]
  },
  {
   "cell_type": "code",
   "execution_count": 122,
   "id": "ddc8b71c",
   "metadata": {},
   "outputs": [],
   "source": [
    "#44. Implement a function to check if a given number is a perfect number."
   ]
  },
  {
   "cell_type": "code",
   "execution_count": 123,
   "id": "70ec86bf",
   "metadata": {},
   "outputs": [],
   "source": [
    "def checkPerfectNum(n:int):\n",
    "    ls = []\n",
    "    for i in range(1,n):\n",
    "        if n%i == 0:\n",
    "            ls.append(i)\n",
    "    return (True if sum(ls) == n else False)"
   ]
  },
  {
   "cell_type": "code",
   "execution_count": 124,
   "id": "6391efeb",
   "metadata": {},
   "outputs": [
    {
     "data": {
      "text/plain": [
       "True"
      ]
     },
     "execution_count": 124,
     "metadata": {},
     "output_type": "execute_result"
    }
   ],
   "source": [
    "checkPerfectNum(6)"
   ]
  },
  {
   "cell_type": "code",
   "execution_count": 125,
   "id": "a7fb1947",
   "metadata": {},
   "outputs": [
    {
     "data": {
      "text/plain": [
       "False"
      ]
     },
     "execution_count": 125,
     "metadata": {},
     "output_type": "execute_result"
    }
   ],
   "source": [
    "checkPerfectNum(15)"
   ]
  },
  {
   "cell_type": "code",
   "execution_count": 126,
   "id": "b47d7504",
   "metadata": {},
   "outputs": [
    {
     "name": "stdout",
     "output_type": "stream",
     "text": [
      "2,3,4,5,6,7,8,9,10,11,12,13,14,15,16,17,18,19,"
     ]
    }
   ],
   "source": [
    "for i in range(2,20):\n",
    "    print(i,end = \",\")"
   ]
  },
  {
   "cell_type": "code",
   "execution_count": 127,
   "id": "fdf3b4e4",
   "metadata": {},
   "outputs": [],
   "source": [
    "#45. Write a Python program to remove all duplicates from a string."
   ]
  },
  {
   "cell_type": "code",
   "execution_count": 128,
   "id": "be2f3377",
   "metadata": {},
   "outputs": [],
   "source": [
    "def removeDuplicate(string:str):\n",
    "    for i in set(string):\n",
    "        print(i,end = '')"
   ]
  },
  {
   "cell_type": "code",
   "execution_count": 129,
   "id": "5665e963",
   "metadata": {},
   "outputs": [
    {
     "name": "stdout",
     "output_type": "stream",
     "text": [
      "gelo"
     ]
    }
   ],
   "source": [
    "removeDuplicate(\"google\")"
   ]
  },
  {
   "cell_type": "code",
   "execution_count": 130,
   "id": "3a603bba",
   "metadata": {},
   "outputs": [],
   "source": [
    "#46. Implement a function to find the first missing positive"
   ]
  }
 ],
 "metadata": {
  "kernelspec": {
   "display_name": "Python 3 (ipykernel)",
   "language": "python",
   "name": "python3"
  },
  "language_info": {
   "codemirror_mode": {
    "name": "ipython",
    "version": 3
   },
   "file_extension": ".py",
   "mimetype": "text/x-python",
   "name": "python",
   "nbconvert_exporter": "python",
   "pygments_lexer": "ipython3",
   "version": "3.10.6"
  }
 },
 "nbformat": 4,
 "nbformat_minor": 5
}
